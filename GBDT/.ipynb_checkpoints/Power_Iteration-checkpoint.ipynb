{
 "cells": [
  {
   "cell_type": "code",
   "execution_count": null,
   "metadata": {},
   "outputs": [],
   "source": [
    "import numpy as np "
   ]
  },
  {
   "cell_type": "code",
   "execution_count": null,
   "metadata": {},
   "outputs": [],
   "source": [
    "def f(C,K,k):\n",
    "    b_k = np.random.rand(C.shape[0])\n",
    "    v_j = []\n",
    "    lamda_j = []\n",
    "    for i in range(k):\n",
    "        b_k = np.dot(C, b_k)\n",
    "        b_k = b_k/np.linalg.norm(b_k)\n",
    "        v_j.append(b_k)\n",
    "        temp1 = np.dot(C, b_k)\n",
    "        eig_val = temp1[0]/b_k[0]\n",
    "        lamda_j.append(eig_val)\n",
    "    return v_j[:K],lamda_j[:K]\n",
    "vj, lamdaj = f(np.array([[0.5, 0.5], [0.2, 0.8]]), 10, 10)"
   ]
  },
  {
   "cell_type": "code",
   "execution_count": null,
   "metadata": {},
   "outputs": [],
   "source": [
    "#Testing\n",
    "mat = np.array([[0.5, 0.5], [0.2, 0.8]])\n",
    "[eigs, vecs] = np.linalg.eig(mat)\n",
    "abs_eigs = list(abs(eigs))\n",
    "max_abseigs = abs_eigs.index(max(abs_eigs))"
   ]
  }
 ],
 "metadata": {
  "kernelspec": {
   "display_name": "Python (research)",
   "language": "python",
   "name": "research"
  },
  "language_info": {
   "codemirror_mode": {
    "name": "ipython",
    "version": 3
   },
   "file_extension": ".py",
   "mimetype": "text/x-python",
   "name": "python",
   "nbconvert_exporter": "python",
   "pygments_lexer": "ipython3",
   "version": "3.6.9"
  }
 },
 "nbformat": 4,
 "nbformat_minor": 2
}
