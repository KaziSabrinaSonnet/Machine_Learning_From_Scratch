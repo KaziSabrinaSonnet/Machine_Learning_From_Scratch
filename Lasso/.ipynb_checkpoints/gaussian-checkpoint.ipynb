{
 "cells": [
  {
   "cell_type": "code",
   "execution_count": null,
   "metadata": {},
   "outputs": [],
   "source": [
    "import math\n",
    "import numpy as np\n",
    "import matplotlib.pyplot as plt\n"
   ]
  },
  {
   "cell_type": "code",
   "execution_count": null,
   "metadata": {},
   "outputs": [],
   "source": [
    "def create_cov_matrix(n):\n",
    "    A = np.random.rand(n, n)\n",
    "    B= np.transpose(A)\n",
    "    cov = np.dot(B, A)\n",
    "    return cov\n",
    "def create_mean_matrix(n):\n",
    "    m = np.array(np.arange(1, n*3, 3))\n",
    "    return m\n",
    "def multivariate_norm(dimension):\n",
    "    covariance = create_cov_matrix(dimension)\n",
    "    mean = create_mean_matrix(dimension)\n",
    "    sample = 100\n",
    "    Z = np.random.multivariate_normal(mean, covariance, sample)\n",
    "    return Z\n",
    "\n",
    "m_dimensional_gauss = multivariate_norm(40)\n",
    "mean = (np.mean(m_dimensional_gauss, axis= 0)).tolist()\n",
    "standard_dev =(np.std(m_dimensional_gauss, axis= 0)).tolist()\n",
    "list1 = []\n",
    "for i in range(1, 41):\n",
    "    list1.append(i)"
   ]
  },
  {
   "cell_type": "code",
   "execution_count": null,
   "metadata": {},
   "outputs": [],
   "source": [
    "plt.plot(list1, standard_dev)\n",
    "plt.title(\"Dimension Vs Standard Deviation\")\n",
    "plt.xlabel(\"Dimension\")\n",
    "plt.ylabel(\"Standard Deviation\")\n"
   ]
  },
  {
   "cell_type": "code",
   "execution_count": null,
   "metadata": {},
   "outputs": [],
   "source": [
    "plt.plot(list1, mean )\n",
    "plt.title(\"Dimension Vs Mean\")\n",
    "plt.xlabel(\"Dimension\")\n",
    "plt.ylabel(\"Mean\")"
   ]
  }
 ],
 "metadata": {
  "kernelspec": {
   "display_name": "Python (research)",
   "language": "python",
   "name": "research"
  },
  "language_info": {
   "codemirror_mode": {
    "name": "ipython",
    "version": 3
   },
   "file_extension": ".py",
   "mimetype": "text/x-python",
   "name": "python",
   "nbconvert_exporter": "python",
   "pygments_lexer": "ipython3",
   "version": "3.6.9"
  }
 },
 "nbformat": 4,
 "nbformat_minor": 2
}
