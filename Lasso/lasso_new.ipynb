{
 "cells": [
  {
   "cell_type": "code",
   "execution_count": null,
   "metadata": {},
   "outputs": [],
   "source": [
    "# all the packages you need\n",
    "from __future__ import division\n",
    "import sys\n",
    "import numpy as np\n",
    "import time\n",
    "import scipy.io as io\n",
    "import scipy.sparse as sparse\n",
    "import matplotlib.pyplot as plt\n",
    "%matplotlib inline"
   ]
  },
  {
   "cell_type": "code",
   "execution_count": null,
   "metadata": {},
   "outputs": [],
   "source": [
    "# synthetic data generator\n",
    "# n is number of samples, d is number of dimensions, k is number of nonzeros in w, sigma is std of noise, \n",
    "# X is a n x d data matrix, y=Xw+w_0+noise is a n-dimensional vector, w is the true weight vector, w0 is true intercept\n",
    "def DataGenerator(n = 50, d = 75, k = 5, sigma = 1.0, w0 = 0.0, seed = 256):\n",
    "    \n",
    "    np.random.seed(seed)\n",
    "    X = np.random.normal(0,1,(n,d))\n",
    "    w = np.random.binomial(1,0.5,k)\n",
    "    noise = np.random.normal(0,sigma,n)\n",
    "    w[w == 1] = 10.0\n",
    "    w[w == 0] = -10.0\n",
    "    w = np.append(w, np.zeros(d - k))\n",
    "    y = X.dot(w) + w0 + noise\n",
    "    return (X, y, w, w0)"
   ]
  },
  {
   "cell_type": "code",
   "execution_count": null,
   "metadata": {},
   "outputs": [],
   "source": [
    "# initialization of W for lasso by least square regression or ridge regression\n",
    "def Initialw(X, y):\n",
    "\n",
    "    n, d = X.shape\n",
    "    # increment X\n",
    "    if sparse.issparse(X):\n",
    "        XI = sparse.hstack((X, np.ones(n).reshape(n,1)))\n",
    "    else:\n",
    "        XI = np.hstack((X, np.ones(n).reshape(n,1)))\n",
    "\n",
    "    if sparse.issparse(X):\n",
    "        if n >= d:\n",
    "            w = sparse.linalg.lsqr(XI, y)[0]\n",
    "        else:\n",
    "            w = sparse.linalg.inv(XI.T.dot(XI) + 1e-3 * sparse.eye(d+1)).dot(XI.T.dot(y))\n",
    "            w = w.T\n",
    "    else:\n",
    "        if n >= d:\n",
    "            w = np.linalg.lstsq(XI, y)[0]\n",
    "        else:\n",
    "            w = np.linalg.inv(XI.T.dot(XI) + 1e-3 * np.eye(d+1)).dot(XI.T.dot(y))\n",
    " \n",
    "    return (w[:d], w[d])"
   ]
  },
  {
   "cell_type": "code",
   "execution_count": null,
   "metadata": {},
   "outputs": [],
   "source": [
    "# Helper and example function of sparse matrix operation for Problem 2.5\n",
    "# W: a scipy.sparse.csc_matrix\n",
    "# x: a vector with length equal to the number of columns of W\n",
    "# In place change the data stored in W,\n",
    "# so that every row of W gets element-wise multiplied by x\n",
    "def cscMatInplaceEleMultEveryRow(W, x):\n",
    "    indptr = W.indptr\n",
    "    last_idx = indptr[0]\n",
    "    for col_id, idx in enumerate(indptr[1:]):\n",
    "        if idx == last_idx:\n",
    "            continue\n",
    "        else:\n",
    "            W.data[last_idx:idx] *= x[col_id]\n",
    "            last_idx = idx"
   ]
  },
  {
   "cell_type": "code",
   "execution_count": null,
   "metadata": {},
   "outputs": [],
   "source": [
    "# Problem 2.1\n",
    "# TODO: coordinate descent of lasso, note lmda stands for lambda\n",
    "def lasso(X, y, lmda = 10.0, epsilon = 1.0e-2, max_iter = 100, draw_curve = False):\n",
    "    #########TODO##########\n",
    "    return (w,w0)"
   ]
  },
  {
   "cell_type": "code",
   "execution_count": null,
   "metadata": {},
   "outputs": [],
   "source": [
    "# Problem 2.1: data generation\n",
    "X, y, w_true, w0_true = DataGenerator(n=50, d=75, k=5, sigma=1.0)\n",
    "# have a look at generated data and true model\n",
    "print(X)\n",
    "print(y)\n",
    "print(w_true)\n",
    "print(w0_true)"
   ]
  },
  {
   "cell_type": "code",
   "execution_count": null,
   "metadata": {},
   "outputs": [],
   "source": [
    "# Problem 2.1: run lasso and plot the convergence curve\n",
    "# TODO: run lasso for one synthetic data\n",
    "w_lasso, w0_lasso = lasso(X, y, lmda = 10.0, epsilon = 1.0e-2, draw_curve = True, max_iter = 100)\n",
    "# have a look at the lasso model you got (sparse? where?)\n",
    "print(w_lasso)"
   ]
  },
  {
   "cell_type": "code",
   "execution_count": null,
   "metadata": {},
   "outputs": [],
   "source": [
    "# Problem 2.2\n",
    "# TODO: evaluation function of lasso model\n",
    "def Evaluate(X, y, w, w0, w_true, w0_true):\n",
    "    #########TODO##########\n",
    "    return (rmse, sparsity_w, precision_w, recall_w)"
   ]
  },
  {
   "cell_type": "code",
   "execution_count": null,
   "metadata": {},
   "outputs": [],
   "source": [
    "# Problem 2.2\n",
    "# TODO: apply your evaluation function to compute precision (of w), recall (of w), sparsity (of w) and training RMSE\n",
    "Emetric = Evaluate(X, y, wl, wl0, w_true, w0_true)"
   ]
  },
  {
   "cell_type": "code",
   "execution_count": null,
   "metadata": {},
   "outputs": [],
   "source": [
    "# Problem 2.3\n",
    "# TODO: compute a lasso solution path, draw the path(s) in a 2D plot\n",
    "def LassoPath(X, y):\n",
    "    #########TODO##########\n",
    "    return (W, W0, Lmda)"
   ]
  },
  {
   "cell_type": "code",
   "execution_count": null,
   "metadata": {},
   "outputs": [],
   "source": [
    "# Problem 2.3\n",
    "# TODO: evaluate a given lasso solution path, draw plot of precision/recall vs. lambda\n",
    "def EvaluatePath(X, y, W, W0, w_true, w0_true, Lmda):\n",
    "    #########TODO##########\n",
    "    return (RMSE, Sparsity, Precision, Recall)"
   ]
  },
  {
   "cell_type": "code",
   "execution_count": null,
   "metadata": {},
   "outputs": [],
   "source": [
    "# Problem 2.3\n",
    "# TODO: draw lasso solution path and precision/recall vs. lambda curves\n",
    "X, y, w_true, w0_true = DataGenerator(n=50, d=75, k=5, sigma=1.0)"
   ]
  },
  {
   "cell_type": "code",
   "execution_count": null,
   "metadata": {},
   "outputs": [],
   "source": [
    "# Problem 2.3\n",
    "# TODO: try a larger std sigma = 10.0\n",
    "X, y, w_true, w0_true = DataGenerator(n=50, d=75, k=5, sigma=10.0)"
   ]
  },
  {
   "cell_type": "code",
   "execution_count": null,
   "metadata": {},
   "outputs": [],
   "source": [
    "# Problem 2.4\n",
    "# TODO: try another 5 different choices of (n,d) \n",
    "# draw lasso solution path and precision/recall vs. lambda curves, use them to estimate the lasso sample complexity\n",
    "X, y, w_true, w0_true = DataGenerator(n=50, d=150, k=5, sigma=1.0)"
   ]
  },
  {
   "cell_type": "code",
   "execution_count": null,
   "metadata": {},
   "outputs": [],
   "source": [
    "# Problem 2.5: predict reviews' star on Yelp\n",
    "# data parser reading yelp data\n",
    "def DataParser(Xfile, yfile, nfile, train_size = 4000, valid_size = 1000):\n",
    "\n",
    "    # read X, y, feature names from file\n",
    "    fName = open(nfile).read().splitlines()\n",
    "    y = np.loadtxt(yfile, dtype=np.int)\n",
    "    if Xfile.find('mtx') >= 0:\n",
    "        # sparse data\n",
    "        X = io.mmread(Xfile).tocsc()\n",
    "    else:\n",
    "        # dense data\n",
    "        X = np.genfromtxt(Xfile, delimiter=\",\")\n",
    "\n",
    "    # split training, validation and test set\n",
    "    X_train = X[0 : train_size,:]\n",
    "    y_train = y[0 : train_size]\n",
    "    X_valid = X[train_size : train_size + valid_size,:]\n",
    "    y_valid = y[train_size : train_size + valid_size]\n",
    "    X_test = X[train_size + valid_size : np.size(X,0),:]\n",
    "    y_test = y[train_size + valid_size : np.size(y,0)]\n",
    "\n",
    "    return (X_train, y_train, X_valid, y_valid, X_test, y_test, fName)"
   ]
  },
  {
   "cell_type": "code",
   "execution_count": null,
   "metadata": {},
   "outputs": [],
   "source": [
    "# Problem 2.5: predict reviews' star on Yelp\n",
    "# TODO: evaluation funtion that computes the lasso path, evaluates the result, and draws the required plots\n",
    "def Validation(X_train, y_train, X_valid, y_valid):\n",
    "    #########TODO##########\n",
    "    return (w_lasso, w0_lasso, lmda_best)"
   ]
  },
  {
   "cell_type": "code",
   "execution_count": null,
   "metadata": {},
   "outputs": [],
   "source": [
    "# Problem 2.5: predict reviews' star on Yelp\n",
    "# TODO: evaluation of your results\n",
    "\n",
    "# load Yelp data: change the address of data files on your own machine if necessary ('../data/' in the below)\n",
    "from scipy.sparse.linalg import lsqr\n",
    "X_train, y_train, X_valid, y_valid, X_test, y_test, fName = DataParser('../data/star_data.mtx', '../data/star_labels.txt', '../data/star_features.txt', 30000, 5000)\n",
    "\n",
    "# evaluation\n",
    "w_lasso, w0_lasso, lmda_best = Validation(X_train, y_train, X_valid, y_valid)\n",
    "\n",
    "# print the top-10 features you found by lasso\n",
    "idx = (-np.abs(w_lasso)).argsort()[0:10]\n",
    "print('Lasso select features:')\n",
    "for i in range(10):\n",
    "    print(fName[idx[i]],w_lasso[idx[i]])"
   ]
  }
 ],
 "metadata": {
  "kernelspec": {
   "display_name": "Python 3",
   "language": "python",
   "name": "python3"
  },
  "language_info": {
   "codemirror_mode": {
    "name": "ipython",
    "version": 3
   },
   "file_extension": ".py",
   "mimetype": "text/x-python",
   "name": "python",
   "nbconvert_exporter": "python",
   "pygments_lexer": "ipython3",
   "version": "3.7.1"
  }
 },
 "nbformat": 4,
 "nbformat_minor": 2
}
